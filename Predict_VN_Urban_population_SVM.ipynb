{
  "nbformat": 4,
  "nbformat_minor": 0,
  "metadata": {
    "colab": {
      "provenance": []
    },
    "kernelspec": {
      "name": "python3",
      "display_name": "Python 3"
    },
    "language_info": {
      "name": "python"
    }
  },
  "cells": [
    {
      "cell_type": "code",
      "execution_count": null,
      "metadata": {
        "id": "89rPt5Q4Tlws"
      },
      "outputs": [],
      "source": [
        "import numpy as np\n",
        "import pandas as pd\n",
        "\n",
        "from sklearn.svm import SVR\n",
        "from sklearn.pipeline import make_pipeline\n",
        "from sklearn.preprocessing import StandardScaler\n",
        "\n",
        "import math\n",
        "import matplotlib.pyplot as plt\n",
        "dataset_path = \"./drive/MyDrive/DSVN.csv\""
      ]
    },
    {
      "cell_type": "code",
      "source": [
        "from google.colab import drive\n",
        "drive.mount('/content/drive')"
      ],
      "metadata": {
        "colab": {
          "base_uri": "https://localhost:8080/"
        },
        "id": "3tGD8DGm6oIv",
        "outputId": "1c76b194-c1ad-4ffb-8e1f-0abda37d1693"
      },
      "execution_count": null,
      "outputs": [
        {
          "output_type": "stream",
          "name": "stdout",
          "text": [
            "Mounted at /content/drive\n"
          ]
        }
      ]
    },
    {
      "cell_type": "markdown",
      "source": [
        "Dữ liệu được crawl về từ trang https://www.worldometers.info/world-population/vietnam-population/"
      ],
      "metadata": {
        "id": "2-_MTvZVrMG8"
      }
    },
    {
      "cell_type": "code",
      "source": [
        "dt = pd.read_csv(dataset_path)\n",
        "dt"
      ],
      "metadata": {
        "colab": {
          "base_uri": "https://localhost:8080/",
          "height": 675
        },
        "id": "L8fVL_f7Xy4A",
        "outputId": "63288a5f-0586-4120-b9ad-bf5c67900d43"
      },
      "execution_count": null,
      "outputs": [
        {
          "output_type": "execute_result",
          "data": {
            "text/plain": [
              "    Year  Population Yearly %  Change Yearly Change  Migrants (net)  \\\n",
              "0   2020  97.338.579             0,91       876.473         -80.000   \n",
              "1   2019  96.462.106             0,96       916.144         -80.000   \n",
              "2   2018  95.545.962                1       945.314         -80.000   \n",
              "3   2017  94.600.648             1,03       960.226         -80.000   \n",
              "4   2016  93.640.422             1,04       963.346         -80.000   \n",
              "5   2015  92.677.076             1,05       941.885         -80.000   \n",
              "6   2010  87.967.651             0,97       826.998        -159.994   \n",
              "7   2005  83.832.661             0,96       784.450        -130.200   \n",
              "8   2000  79.910.412              1,3       999.990         -43.200   \n",
              "9   1995  74.910.461             1,96     1.384.320         -78.847   \n",
              "10  1990  67.988.862             2,23     1.418.428         -66.465   \n",
              "11  1985  60.896.721             2,33     1.322.975         -65.513   \n",
              "12  1980  54.281.846             2,19     1.112.731        -171.779   \n",
              "13  1975  48.718.189             2,34     1.062.679           0.000   \n",
              "14  1970  43.404.793             2,77     1.109.168           0.000   \n",
              "15  1965  37.858.951             2,99     1.037.782           0.000   \n",
              "16  1960  32.670.039             3,02       904.519           0.000   \n",
              "17  1955  28.147.443             2,56       667.508           0.000   \n",
              "\n",
              "   Median Age Fertility Rate  Density (P/Km²) Urban Pop % Urban Population  \\\n",
              "0        32,5           2,06              314        37,7       36.727.248   \n",
              "1        30,9           1,98              311          37       35.686.730   \n",
              "2        30,9           1,98              308        36,3       34.658.961   \n",
              "3        30,9           1,98              305        35,6       33.642.498   \n",
              "4        30,9           1,98              302        34,9       32.635.787   \n",
              "5        30,5           1,96              299        34,1       31.635.369   \n",
              "6        28,5           1,93              284        30,6       26.910.696   \n",
              "7        26,4           1,92              270        27,4       23.000.555   \n",
              "8        24,2           2,25              258        24,5       19.568.590   \n",
              "9        22,3           3,23              242        22,3       16.668.571   \n",
              "10       21,1           3,85              219        20,3       13.817.423   \n",
              "11         20            4,6              196        19,6       11.942.117   \n",
              "12       19,1            5,5              175        19,3       10.464.982   \n",
              "13       18,3           6,33              157        18,8        9.152.476   \n",
              "14       18,2           6,46              140        18,3        7.943.534   \n",
              "15       19,2           6,42              122        16,4        6.216.854   \n",
              "16       21,9           6,16              105        14,7        4.802.582   \n",
              "17       23,6            5,4               91        13,1        3.685.807   \n",
              "\n",
              "   Country's Share of World Pop World Population  VietnamGlobal Rank  \n",
              "0                          1,25    7.794.798.739                  15  \n",
              "1                          1,25    7.713.468.100                  15  \n",
              "2                          1,25    7.631.091.040                  15  \n",
              "3                          1,25    7.547.858.925                  15  \n",
              "4                          1,25    7.464.022.049                  15  \n",
              "5                          1,26    7.379.797.139                  14  \n",
              "6                          1,26    6.956.823.603                  13  \n",
              "7                          1,28    6.541.907.027                  13  \n",
              "8                           1,3    6.143.493.823                  13  \n",
              "9                           1,3    5.744.212.979                  13  \n",
              "10                         1,28    5.327.231.061                  13  \n",
              "11                         1,25    4.870.921.740                  13  \n",
              "12                         1,22    4.458.003.514                  15  \n",
              "13                         1,19    4.079.480.606                  17  \n",
              "14                         1,17    3.700.437.046                  17  \n",
              "15                         1,13    3.339.583.597                  18  \n",
              "16                         1,08    3.034.949.748                  17  \n",
              "17                         1,02    2.773.019.936                  18  "
            ],
            "text/html": [
              "\n",
              "  <div id=\"df-fc5324cf-471a-4971-b803-bbfaa1b7d7a2\">\n",
              "    <div class=\"colab-df-container\">\n",
              "      <div>\n",
              "<style scoped>\n",
              "    .dataframe tbody tr th:only-of-type {\n",
              "        vertical-align: middle;\n",
              "    }\n",
              "\n",
              "    .dataframe tbody tr th {\n",
              "        vertical-align: top;\n",
              "    }\n",
              "\n",
              "    .dataframe thead th {\n",
              "        text-align: right;\n",
              "    }\n",
              "</style>\n",
              "<table border=\"1\" class=\"dataframe\">\n",
              "  <thead>\n",
              "    <tr style=\"text-align: right;\">\n",
              "      <th></th>\n",
              "      <th>Year</th>\n",
              "      <th>Population</th>\n",
              "      <th>Yearly %  Change</th>\n",
              "      <th>Yearly Change</th>\n",
              "      <th>Migrants (net)</th>\n",
              "      <th>Median Age</th>\n",
              "      <th>Fertility Rate</th>\n",
              "      <th>Density (P/Km²)</th>\n",
              "      <th>Urban Pop %</th>\n",
              "      <th>Urban Population</th>\n",
              "      <th>Country's Share of World Pop</th>\n",
              "      <th>World Population</th>\n",
              "      <th>VietnamGlobal Rank</th>\n",
              "    </tr>\n",
              "  </thead>\n",
              "  <tbody>\n",
              "    <tr>\n",
              "      <th>0</th>\n",
              "      <td>2020</td>\n",
              "      <td>97.338.579</td>\n",
              "      <td>0,91</td>\n",
              "      <td>876.473</td>\n",
              "      <td>-80.000</td>\n",
              "      <td>32,5</td>\n",
              "      <td>2,06</td>\n",
              "      <td>314</td>\n",
              "      <td>37,7</td>\n",
              "      <td>36.727.248</td>\n",
              "      <td>1,25</td>\n",
              "      <td>7.794.798.739</td>\n",
              "      <td>15</td>\n",
              "    </tr>\n",
              "    <tr>\n",
              "      <th>1</th>\n",
              "      <td>2019</td>\n",
              "      <td>96.462.106</td>\n",
              "      <td>0,96</td>\n",
              "      <td>916.144</td>\n",
              "      <td>-80.000</td>\n",
              "      <td>30,9</td>\n",
              "      <td>1,98</td>\n",
              "      <td>311</td>\n",
              "      <td>37</td>\n",
              "      <td>35.686.730</td>\n",
              "      <td>1,25</td>\n",
              "      <td>7.713.468.100</td>\n",
              "      <td>15</td>\n",
              "    </tr>\n",
              "    <tr>\n",
              "      <th>2</th>\n",
              "      <td>2018</td>\n",
              "      <td>95.545.962</td>\n",
              "      <td>1</td>\n",
              "      <td>945.314</td>\n",
              "      <td>-80.000</td>\n",
              "      <td>30,9</td>\n",
              "      <td>1,98</td>\n",
              "      <td>308</td>\n",
              "      <td>36,3</td>\n",
              "      <td>34.658.961</td>\n",
              "      <td>1,25</td>\n",
              "      <td>7.631.091.040</td>\n",
              "      <td>15</td>\n",
              "    </tr>\n",
              "    <tr>\n",
              "      <th>3</th>\n",
              "      <td>2017</td>\n",
              "      <td>94.600.648</td>\n",
              "      <td>1,03</td>\n",
              "      <td>960.226</td>\n",
              "      <td>-80.000</td>\n",
              "      <td>30,9</td>\n",
              "      <td>1,98</td>\n",
              "      <td>305</td>\n",
              "      <td>35,6</td>\n",
              "      <td>33.642.498</td>\n",
              "      <td>1,25</td>\n",
              "      <td>7.547.858.925</td>\n",
              "      <td>15</td>\n",
              "    </tr>\n",
              "    <tr>\n",
              "      <th>4</th>\n",
              "      <td>2016</td>\n",
              "      <td>93.640.422</td>\n",
              "      <td>1,04</td>\n",
              "      <td>963.346</td>\n",
              "      <td>-80.000</td>\n",
              "      <td>30,9</td>\n",
              "      <td>1,98</td>\n",
              "      <td>302</td>\n",
              "      <td>34,9</td>\n",
              "      <td>32.635.787</td>\n",
              "      <td>1,25</td>\n",
              "      <td>7.464.022.049</td>\n",
              "      <td>15</td>\n",
              "    </tr>\n",
              "    <tr>\n",
              "      <th>5</th>\n",
              "      <td>2015</td>\n",
              "      <td>92.677.076</td>\n",
              "      <td>1,05</td>\n",
              "      <td>941.885</td>\n",
              "      <td>-80.000</td>\n",
              "      <td>30,5</td>\n",
              "      <td>1,96</td>\n",
              "      <td>299</td>\n",
              "      <td>34,1</td>\n",
              "      <td>31.635.369</td>\n",
              "      <td>1,26</td>\n",
              "      <td>7.379.797.139</td>\n",
              "      <td>14</td>\n",
              "    </tr>\n",
              "    <tr>\n",
              "      <th>6</th>\n",
              "      <td>2010</td>\n",
              "      <td>87.967.651</td>\n",
              "      <td>0,97</td>\n",
              "      <td>826.998</td>\n",
              "      <td>-159.994</td>\n",
              "      <td>28,5</td>\n",
              "      <td>1,93</td>\n",
              "      <td>284</td>\n",
              "      <td>30,6</td>\n",
              "      <td>26.910.696</td>\n",
              "      <td>1,26</td>\n",
              "      <td>6.956.823.603</td>\n",
              "      <td>13</td>\n",
              "    </tr>\n",
              "    <tr>\n",
              "      <th>7</th>\n",
              "      <td>2005</td>\n",
              "      <td>83.832.661</td>\n",
              "      <td>0,96</td>\n",
              "      <td>784.450</td>\n",
              "      <td>-130.200</td>\n",
              "      <td>26,4</td>\n",
              "      <td>1,92</td>\n",
              "      <td>270</td>\n",
              "      <td>27,4</td>\n",
              "      <td>23.000.555</td>\n",
              "      <td>1,28</td>\n",
              "      <td>6.541.907.027</td>\n",
              "      <td>13</td>\n",
              "    </tr>\n",
              "    <tr>\n",
              "      <th>8</th>\n",
              "      <td>2000</td>\n",
              "      <td>79.910.412</td>\n",
              "      <td>1,3</td>\n",
              "      <td>999.990</td>\n",
              "      <td>-43.200</td>\n",
              "      <td>24,2</td>\n",
              "      <td>2,25</td>\n",
              "      <td>258</td>\n",
              "      <td>24,5</td>\n",
              "      <td>19.568.590</td>\n",
              "      <td>1,3</td>\n",
              "      <td>6.143.493.823</td>\n",
              "      <td>13</td>\n",
              "    </tr>\n",
              "    <tr>\n",
              "      <th>9</th>\n",
              "      <td>1995</td>\n",
              "      <td>74.910.461</td>\n",
              "      <td>1,96</td>\n",
              "      <td>1.384.320</td>\n",
              "      <td>-78.847</td>\n",
              "      <td>22,3</td>\n",
              "      <td>3,23</td>\n",
              "      <td>242</td>\n",
              "      <td>22,3</td>\n",
              "      <td>16.668.571</td>\n",
              "      <td>1,3</td>\n",
              "      <td>5.744.212.979</td>\n",
              "      <td>13</td>\n",
              "    </tr>\n",
              "    <tr>\n",
              "      <th>10</th>\n",
              "      <td>1990</td>\n",
              "      <td>67.988.862</td>\n",
              "      <td>2,23</td>\n",
              "      <td>1.418.428</td>\n",
              "      <td>-66.465</td>\n",
              "      <td>21,1</td>\n",
              "      <td>3,85</td>\n",
              "      <td>219</td>\n",
              "      <td>20,3</td>\n",
              "      <td>13.817.423</td>\n",
              "      <td>1,28</td>\n",
              "      <td>5.327.231.061</td>\n",
              "      <td>13</td>\n",
              "    </tr>\n",
              "    <tr>\n",
              "      <th>11</th>\n",
              "      <td>1985</td>\n",
              "      <td>60.896.721</td>\n",
              "      <td>2,33</td>\n",
              "      <td>1.322.975</td>\n",
              "      <td>-65.513</td>\n",
              "      <td>20</td>\n",
              "      <td>4,6</td>\n",
              "      <td>196</td>\n",
              "      <td>19,6</td>\n",
              "      <td>11.942.117</td>\n",
              "      <td>1,25</td>\n",
              "      <td>4.870.921.740</td>\n",
              "      <td>13</td>\n",
              "    </tr>\n",
              "    <tr>\n",
              "      <th>12</th>\n",
              "      <td>1980</td>\n",
              "      <td>54.281.846</td>\n",
              "      <td>2,19</td>\n",
              "      <td>1.112.731</td>\n",
              "      <td>-171.779</td>\n",
              "      <td>19,1</td>\n",
              "      <td>5,5</td>\n",
              "      <td>175</td>\n",
              "      <td>19,3</td>\n",
              "      <td>10.464.982</td>\n",
              "      <td>1,22</td>\n",
              "      <td>4.458.003.514</td>\n",
              "      <td>15</td>\n",
              "    </tr>\n",
              "    <tr>\n",
              "      <th>13</th>\n",
              "      <td>1975</td>\n",
              "      <td>48.718.189</td>\n",
              "      <td>2,34</td>\n",
              "      <td>1.062.679</td>\n",
              "      <td>0.000</td>\n",
              "      <td>18,3</td>\n",
              "      <td>6,33</td>\n",
              "      <td>157</td>\n",
              "      <td>18,8</td>\n",
              "      <td>9.152.476</td>\n",
              "      <td>1,19</td>\n",
              "      <td>4.079.480.606</td>\n",
              "      <td>17</td>\n",
              "    </tr>\n",
              "    <tr>\n",
              "      <th>14</th>\n",
              "      <td>1970</td>\n",
              "      <td>43.404.793</td>\n",
              "      <td>2,77</td>\n",
              "      <td>1.109.168</td>\n",
              "      <td>0.000</td>\n",
              "      <td>18,2</td>\n",
              "      <td>6,46</td>\n",
              "      <td>140</td>\n",
              "      <td>18,3</td>\n",
              "      <td>7.943.534</td>\n",
              "      <td>1,17</td>\n",
              "      <td>3.700.437.046</td>\n",
              "      <td>17</td>\n",
              "    </tr>\n",
              "    <tr>\n",
              "      <th>15</th>\n",
              "      <td>1965</td>\n",
              "      <td>37.858.951</td>\n",
              "      <td>2,99</td>\n",
              "      <td>1.037.782</td>\n",
              "      <td>0.000</td>\n",
              "      <td>19,2</td>\n",
              "      <td>6,42</td>\n",
              "      <td>122</td>\n",
              "      <td>16,4</td>\n",
              "      <td>6.216.854</td>\n",
              "      <td>1,13</td>\n",
              "      <td>3.339.583.597</td>\n",
              "      <td>18</td>\n",
              "    </tr>\n",
              "    <tr>\n",
              "      <th>16</th>\n",
              "      <td>1960</td>\n",
              "      <td>32.670.039</td>\n",
              "      <td>3,02</td>\n",
              "      <td>904.519</td>\n",
              "      <td>0.000</td>\n",
              "      <td>21,9</td>\n",
              "      <td>6,16</td>\n",
              "      <td>105</td>\n",
              "      <td>14,7</td>\n",
              "      <td>4.802.582</td>\n",
              "      <td>1,08</td>\n",
              "      <td>3.034.949.748</td>\n",
              "      <td>17</td>\n",
              "    </tr>\n",
              "    <tr>\n",
              "      <th>17</th>\n",
              "      <td>1955</td>\n",
              "      <td>28.147.443</td>\n",
              "      <td>2,56</td>\n",
              "      <td>667.508</td>\n",
              "      <td>0.000</td>\n",
              "      <td>23,6</td>\n",
              "      <td>5,4</td>\n",
              "      <td>91</td>\n",
              "      <td>13,1</td>\n",
              "      <td>3.685.807</td>\n",
              "      <td>1,02</td>\n",
              "      <td>2.773.019.936</td>\n",
              "      <td>18</td>\n",
              "    </tr>\n",
              "  </tbody>\n",
              "</table>\n",
              "</div>\n",
              "      <button class=\"colab-df-convert\" onclick=\"convertToInteractive('df-fc5324cf-471a-4971-b803-bbfaa1b7d7a2')\"\n",
              "              title=\"Convert this dataframe to an interactive table.\"\n",
              "              style=\"display:none;\">\n",
              "        \n",
              "  <svg xmlns=\"http://www.w3.org/2000/svg\" height=\"24px\"viewBox=\"0 0 24 24\"\n",
              "       width=\"24px\">\n",
              "    <path d=\"M0 0h24v24H0V0z\" fill=\"none\"/>\n",
              "    <path d=\"M18.56 5.44l.94 2.06.94-2.06 2.06-.94-2.06-.94-.94-2.06-.94 2.06-2.06.94zm-11 1L8.5 8.5l.94-2.06 2.06-.94-2.06-.94L8.5 2.5l-.94 2.06-2.06.94zm10 10l.94 2.06.94-2.06 2.06-.94-2.06-.94-.94-2.06-.94 2.06-2.06.94z\"/><path d=\"M17.41 7.96l-1.37-1.37c-.4-.4-.92-.59-1.43-.59-.52 0-1.04.2-1.43.59L10.3 9.45l-7.72 7.72c-.78.78-.78 2.05 0 2.83L4 21.41c.39.39.9.59 1.41.59.51 0 1.02-.2 1.41-.59l7.78-7.78 2.81-2.81c.8-.78.8-2.07 0-2.86zM5.41 20L4 18.59l7.72-7.72 1.47 1.35L5.41 20z\"/>\n",
              "  </svg>\n",
              "      </button>\n",
              "      \n",
              "  <style>\n",
              "    .colab-df-container {\n",
              "      display:flex;\n",
              "      flex-wrap:wrap;\n",
              "      gap: 12px;\n",
              "    }\n",
              "\n",
              "    .colab-df-convert {\n",
              "      background-color: #E8F0FE;\n",
              "      border: none;\n",
              "      border-radius: 50%;\n",
              "      cursor: pointer;\n",
              "      display: none;\n",
              "      fill: #1967D2;\n",
              "      height: 32px;\n",
              "      padding: 0 0 0 0;\n",
              "      width: 32px;\n",
              "    }\n",
              "\n",
              "    .colab-df-convert:hover {\n",
              "      background-color: #E2EBFA;\n",
              "      box-shadow: 0px 1px 2px rgba(60, 64, 67, 0.3), 0px 1px 3px 1px rgba(60, 64, 67, 0.15);\n",
              "      fill: #174EA6;\n",
              "    }\n",
              "\n",
              "    [theme=dark] .colab-df-convert {\n",
              "      background-color: #3B4455;\n",
              "      fill: #D2E3FC;\n",
              "    }\n",
              "\n",
              "    [theme=dark] .colab-df-convert:hover {\n",
              "      background-color: #434B5C;\n",
              "      box-shadow: 0px 1px 3px 1px rgba(0, 0, 0, 0.15);\n",
              "      filter: drop-shadow(0px 1px 2px rgba(0, 0, 0, 0.3));\n",
              "      fill: #FFFFFF;\n",
              "    }\n",
              "  </style>\n",
              "\n",
              "      <script>\n",
              "        const buttonEl =\n",
              "          document.querySelector('#df-fc5324cf-471a-4971-b803-bbfaa1b7d7a2 button.colab-df-convert');\n",
              "        buttonEl.style.display =\n",
              "          google.colab.kernel.accessAllowed ? 'block' : 'none';\n",
              "\n",
              "        async function convertToInteractive(key) {\n",
              "          const element = document.querySelector('#df-fc5324cf-471a-4971-b803-bbfaa1b7d7a2');\n",
              "          const dataTable =\n",
              "            await google.colab.kernel.invokeFunction('convertToInteractive',\n",
              "                                                     [key], {});\n",
              "          if (!dataTable) return;\n",
              "\n",
              "          const docLinkHtml = 'Like what you see? Visit the ' +\n",
              "            '<a target=\"_blank\" href=https://colab.research.google.com/notebooks/data_table.ipynb>data table notebook</a>'\n",
              "            + ' to learn more about interactive tables.';\n",
              "          element.innerHTML = '';\n",
              "          dataTable['output_type'] = 'display_data';\n",
              "          await google.colab.output.renderOutput(dataTable, element);\n",
              "          const docLink = document.createElement('div');\n",
              "          docLink.innerHTML = docLinkHtml;\n",
              "          element.appendChild(docLink);\n",
              "        }\n",
              "      </script>\n",
              "    </div>\n",
              "  </div>\n",
              "  "
            ]
          },
          "metadata": {},
          "execution_count": 3
        }
      ]
    },
    {
      "cell_type": "code",
      "source": [
        "dt.columns"
      ],
      "metadata": {
        "colab": {
          "base_uri": "https://localhost:8080/"
        },
        "id": "U2jwJ3YIcyh4",
        "outputId": "64796703-72bb-4105-f731-10c3e9924f09"
      },
      "execution_count": null,
      "outputs": [
        {
          "output_type": "execute_result",
          "data": {
            "text/plain": [
              "Index(['Year', 'Population', 'Yearly %  Change', 'Yearly Change',\n",
              "       'Migrants (net)', 'Median Age', 'Fertility Rate', 'Density (P/Km²)',\n",
              "       'Urban Pop %', 'Urban Population', 'Country's Share of World Pop',\n",
              "       'World Population', 'VietnamGlobal Rank'],\n",
              "      dtype='object')"
            ]
          },
          "metadata": {},
          "execution_count": 4
        }
      ]
    },
    {
      "cell_type": "code",
      "source": [
        "def dtype_process(dtstr):\n",
        "  if type(dtstr) == str:\n",
        "    return float(dtstr.replace('.', '').replace(',', '.'))\n",
        "  else: return float(dtstr)"
      ],
      "metadata": {
        "id": "QfEZ1FKG8eu3"
      },
      "execution_count": null,
      "outputs": []
    },
    {
      "cell_type": "code",
      "source": [
        "for i in dt.columns:\n",
        "  for j in dt.index:\n",
        "    dt[i][j] = dtype_process(dt[i][j])\n",
        "dt = dt.astype(float)"
      ],
      "metadata": {
        "id": "9mXfP9U_eLPh",
        "colab": {
          "base_uri": "https://localhost:8080/"
        },
        "outputId": "7342f2f2-381b-450f-c9a1-21360f86bdaf"
      },
      "execution_count": null,
      "outputs": [
        {
          "output_type": "stream",
          "name": "stderr",
          "text": [
            "/usr/local/lib/python3.7/dist-packages/ipykernel_launcher.py:3: SettingWithCopyWarning: \n",
            "A value is trying to be set on a copy of a slice from a DataFrame\n",
            "\n",
            "See the caveats in the documentation: https://pandas.pydata.org/pandas-docs/stable/user_guide/indexing.html#returning-a-view-versus-a-copy\n",
            "  This is separate from the ipykernel package so we can avoid doing imports until\n"
          ]
        }
      ]
    },
    {
      "cell_type": "markdown",
      "source": [
        "Số dân thành thị qua các năm"
      ],
      "metadata": {
        "id": "kIyIFIp7u79k"
      }
    },
    {
      "cell_type": "code",
      "source": [
        "plt.plot(dt['Year'], dt['Urban Population'])\n",
        "plt.show()"
      ],
      "metadata": {
        "colab": {
          "base_uri": "https://localhost:8080/",
          "height": 276
        },
        "id": "VmbBVeQ4t5kO",
        "outputId": "930fafeb-aa05-46ec-8354-306d2f8c6c2e"
      },
      "execution_count": null,
      "outputs": [
        {
          "output_type": "display_data",
          "data": {
            "text/plain": [
              "<Figure size 432x288 with 1 Axes>"
            ],
            "image/png": "[encoded data removed]"
          },
          "metadata": {
            "needs_background": "light"
          }
        }
      ]
    },
    {
      "cell_type": "markdown",
      "source": [
        "Vì dữ liệu có các dữ liệu từ những năm cũ sẽ gây nhiễu và làm cho dữ liệu không còn nằm trên một đường thẳng. Nên ta chỉ sử dụng các dòng dữ liệu từ các năm gần đây và các cột tỷ lệ thuận với cột nhãn cần dự đoán để có kết quả tốt nhất"
      ],
      "metadata": {
        "id": "zEIy6sNNvDbl"
      }
    },
    {
      "cell_type": "code",
      "source": [
        "df = dt[['Year', 'Population', 'Density (P/Km²)', 'Urban Population']][0:6]\n",
        "df"
      ],
      "metadata": {
        "colab": {
          "base_uri": "https://localhost:8080/",
          "height": 237
        },
        "id": "M9O_eRu1c_1X",
        "outputId": "22a47b14-9014-4508-cdb4-4754571acff4"
      },
      "execution_count": null,
      "outputs": [
        {
          "output_type": "execute_result",
          "data": {
            "text/plain": [
              "     Year  Population  Density (P/Km²)  Urban Population\n",
              "0  2020.0  97338579.0            314.0        36727248.0\n",
              "1  2019.0  96462106.0            311.0        35686730.0\n",
              "2  2018.0  95545962.0            308.0        34658961.0\n",
              "3  2017.0  94600648.0            305.0        33642498.0\n",
              "4  2016.0  93640422.0            302.0        32635787.0\n",
              "5  2015.0  92677076.0            299.0        31635369.0"
            ],
            "text/html": [
              "\n",
              "  <div id=\"df-b13dbcab-a8ed-47e5-ac4d-b385ef9de5f1\">\n",
              "    <div class=\"colab-df-container\">\n",
              "      <div>\n",
              "<style scoped>\n",
              "    .dataframe tbody tr th:only-of-type {\n",
              "        vertical-align: middle;\n",
              "    }\n",
              "\n",
              "    .dataframe tbody tr th {\n",
              "        vertical-align: top;\n",
              "    }\n",
              "\n",
              "    .dataframe thead th {\n",
              "        text-align: right;\n",
              "    }\n",
              "</style>\n",
              "<table border=\"1\" class=\"dataframe\">\n",
              "  <thead>\n",
              "    <tr style=\"text-align: right;\">\n",
              "      <th></th>\n",
              "      <th>Year</th>\n",
              "      <th>Population</th>\n",
              "      <th>Density (P/Km²)</th>\n",
              "      <th>Urban Population</th>\n",
              "    </tr>\n",
              "  </thead>\n",
              "  <tbody>\n",
              "    <tr>\n",
              "      <th>0</th>\n",
              "      <td>2020.0</td>\n",
              "      <td>97338579.0</td>\n",
              "      <td>314.0</td>\n",
              "      <td>36727248.0</td>\n",
              "    </tr>\n",
              "    <tr>\n",
              "      <th>1</th>\n",
              "      <td>2019.0</td>\n",
              "      <td>96462106.0</td>\n",
              "      <td>311.0</td>\n",
              "      <td>35686730.0</td>\n",
              "    </tr>\n",
              "    <tr>\n",
              "      <th>2</th>\n",
              "      <td>2018.0</td>\n",
              "      <td>95545962.0</td>\n",
              "      <td>308.0</td>\n",
              "      <td>34658961.0</td>\n",
              "    </tr>\n",
              "    <tr>\n",
              "      <th>3</th>\n",
              "      <td>2017.0</td>\n",
              "      <td>94600648.0</td>\n",
              "      <td>305.0</td>\n",
              "      <td>33642498.0</td>\n",
              "    </tr>\n",
              "    <tr>\n",
              "      <th>4</th>\n",
              "      <td>2016.0</td>\n",
              "      <td>93640422.0</td>\n",
              "      <td>302.0</td>\n",
              "      <td>32635787.0</td>\n",
              "    </tr>\n",
              "    <tr>\n",
              "      <th>5</th>\n",
              "      <td>2015.0</td>\n",
              "      <td>92677076.0</td>\n",
              "      <td>299.0</td>\n",
              "      <td>31635369.0</td>\n",
              "    </tr>\n",
              "  </tbody>\n",
              "</table>\n",
              "</div>\n",
              "      <button class=\"colab-df-convert\" onclick=\"convertToInteractive('df-b13dbcab-a8ed-47e5-ac4d-b385ef9de5f1')\"\n",
              "              title=\"Convert this dataframe to an interactive table.\"\n",
              "              style=\"display:none;\">\n",
              "        \n",
              "  <svg xmlns=\"http://www.w3.org/2000/svg\" height=\"24px\"viewBox=\"0 0 24 24\"\n",
              "       width=\"24px\">\n",
              "    <path d=\"M0 0h24v24H0V0z\" fill=\"none\"/>\n",
              "    <path d=\"M18.56 5.44l.94 2.06.94-2.06 2.06-.94-2.06-.94-.94-2.06-.94 2.06-2.06.94zm-11 1L8.5 8.5l.94-2.06 2.06-.94-2.06-.94L8.5 2.5l-.94 2.06-2.06.94zm10 10l.94 2.06.94-2.06 2.06-.94-2.06-.94-.94-2.06-.94 2.06-2.06.94z\"/><path d=\"M17.41 7.96l-1.37-1.37c-.4-.4-.92-.59-1.43-.59-.52 0-1.04.2-1.43.59L10.3 9.45l-7.72 7.72c-.78.78-.78 2.05 0 2.83L4 21.41c.39.39.9.59 1.41.59.51 0 1.02-.2 1.41-.59l7.78-7.78 2.81-2.81c.8-.78.8-2.07 0-2.86zM5.41 20L4 18.59l7.72-7.72 1.47 1.35L5.41 20z\"/>\n",
              "  </svg>\n",
              "      </button>\n",
              "      \n",
              "  <style>\n",
              "    .colab-df-container {\n",
              "      display:flex;\n",
              "      flex-wrap:wrap;\n",
              "      gap: 12px;\n",
              "    }\n",
              "\n",
              "    .colab-df-convert {\n",
              "      background-color: #E8F0FE;\n",
              "      border: none;\n",
              "      border-radius: 50%;\n",
              "      cursor: pointer;\n",
              "      display: none;\n",
              "      fill: #1967D2;\n",
              "      height: 32px;\n",
              "      padding: 0 0 0 0;\n",
              "      width: 32px;\n",
              "    }\n",
              "\n",
              "    .colab-df-convert:hover {\n",
              "      background-color: #E2EBFA;\n",
              "      box-shadow: 0px 1px 2px rgba(60, 64, 67, 0.3), 0px 1px 3px 1px rgba(60, 64, 67, 0.15);\n",
              "      fill: #174EA6;\n",
              "    }\n",
              "\n",
              "    [theme=dark] .colab-df-convert {\n",
              "      background-color: #3B4455;\n",
              "      fill: #D2E3FC;\n",
              "    }\n",
              "\n",
              "    [theme=dark] .colab-df-convert:hover {\n",
              "      background-color: #434B5C;\n",
              "      box-shadow: 0px 1px 3px 1px rgba(0, 0, 0, 0.15);\n",
              "      filter: drop-shadow(0px 1px 2px rgba(0, 0, 0, 0.3));\n",
              "      fill: #FFFFFF;\n",
              "    }\n",
              "  </style>\n",
              "\n",
              "      <script>\n",
              "        const buttonEl =\n",
              "          document.querySelector('#df-b13dbcab-a8ed-47e5-ac4d-b385ef9de5f1 button.colab-df-convert');\n",
              "        buttonEl.style.display =\n",
              "          google.colab.kernel.accessAllowed ? 'block' : 'none';\n",
              "\n",
              "        async function convertToInteractive(key) {\n",
              "          const element = document.querySelector('#df-b13dbcab-a8ed-47e5-ac4d-b385ef9de5f1');\n",
              "          const dataTable =\n",
              "            await google.colab.kernel.invokeFunction('convertToInteractive',\n",
              "                                                     [key], {});\n",
              "          if (!dataTable) return;\n",
              "\n",
              "          const docLinkHtml = 'Like what you see? Visit the ' +\n",
              "            '<a target=\"_blank\" href=https://colab.research.google.com/notebooks/data_table.ipynb>data table notebook</a>'\n",
              "            + ' to learn more about interactive tables.';\n",
              "          element.innerHTML = '';\n",
              "          dataTable['output_type'] = 'display_data';\n",
              "          await google.colab.output.renderOutput(dataTable, element);\n",
              "          const docLink = document.createElement('div');\n",
              "          docLink.innerHTML = docLinkHtml;\n",
              "          element.appendChild(docLink);\n",
              "        }\n",
              "      </script>\n",
              "    </div>\n",
              "  </div>\n",
              "  "
            ]
          },
          "metadata": {},
          "execution_count": 8
        }
      ]
    },
    {
      "cell_type": "markdown",
      "source": [
        "Ta có tập dữ liệu để dự đoán gồm 6 dòng với 3 thuộc tính (Year, Population, Density) và 1 nhãn (Urban Population)"
      ],
      "metadata": {
        "id": "6FJmmu7d50ad"
      }
    },
    {
      "cell_type": "code",
      "source": [
        "plt.plot(df['Year'], df['Urban Population'])\n",
        "plt.title('Số dân thành thị qua các năm')\n",
        "plt.show()"
      ],
      "metadata": {
        "colab": {
          "base_uri": "https://localhost:8080/",
          "height": 282
        },
        "id": "Rq4lOIoJi-0-",
        "outputId": "16b6429b-c160-49f2-a4f5-972e70620ea7"
      },
      "execution_count": null,
      "outputs": [
        {
          "output_type": "display_data",
          "data": {
            "text/plain": [
              "<Figure size 432x288 with 1 Axes>"
            ],
            "image/png": "[encoded data removed]"
          },
          "metadata": {
            "needs_background": "light"
          }
        }
      ]
    },
    {
      "cell_type": "markdown",
      "source": [
        "Chia tập dữ liệu thành train test và validate"
      ],
      "metadata": {
        "id": "bRcF7vhz7FWU"
      }
    },
    {
      "cell_type": "code",
      "source": [
        "test = df[0:1]\n",
        "val = df[1:2]\n",
        "train = df[2:]"
      ],
      "metadata": {
        "id": "8jXf92tn9Ay-"
      },
      "execution_count": null,
      "outputs": []
    },
    {
      "cell_type": "markdown",
      "source": [
        "Khởi tạo các tham số và kernel khác nhau cho SVM"
      ],
      "metadata": {
        "id": "fMhJx2FE7O-f"
      }
    },
    {
      "cell_type": "code",
      "source": [
        "a = 1.0\n",
        "C = []\n",
        "for i in range(5):\n",
        "  a*=10\n",
        "  C.append(a)\n",
        "kernels = ['linear', 'poly', 'rbf', 'sigmoid']\n",
        "ep = [ float(i)*0.1 for i in range(1, 6)]\n",
        "case = []\n",
        "for a in C:\n",
        "  for b in kernels:\n",
        "    for c in ep:\n",
        "      case.append([a, b, c])"
      ],
      "metadata": {
        "id": "n3YPGIy6M7sz"
      },
      "execution_count": null,
      "outputs": []
    },
    {
      "cell_type": "markdown",
      "source": [
        "Huấn luyện mô hình với các kernel và tham số khác nhau"
      ],
      "metadata": {
        "id": "RyLJxRFS7aao"
      }
    },
    {
      "cell_type": "code",
      "source": [
        "max = 0\n",
        "min_error = 100000000000.0\n",
        "X_train = train[train.columns[0:3]]\n",
        "Y_train = train[train.columns[3]]\n",
        "X_val = val[val.columns[0:3]]\n",
        "Y_val = val[val.columns[3]]\n",
        "for i in range(len(case)):\n",
        "  regr = make_pipeline(StandardScaler(), SVR(C=case[i][0], kernel=case[i][1], epsilon=case[i][2]))\n",
        "  regr.fit(X_train, Y_train)\n",
        "  pred = regr.predict(X_val)[0]\n",
        "  error = abs((Y_val[1] - pred))\n",
        "  if error < min_error:\n",
        "    max = i\n",
        "    min_error = error"
      ],
      "metadata": {
        "id": "FzWcfRajcWdA"
      },
      "execution_count": null,
      "outputs": []
    },
    {
      "cell_type": "markdown",
      "source": [
        "Bộ tham số cho kết quả tốt nhất"
      ],
      "metadata": {
        "id": "2WamgzDPtDRG"
      }
    },
    {
      "cell_type": "code",
      "source": [
        "case[max]"
      ],
      "metadata": {
        "id": "rV_F2DU-tAWW",
        "outputId": "b11c3ab5-3e58-4127-fcd1-914f7325e168",
        "colab": {
          "base_uri": "https://localhost:8080/"
        }
      },
      "execution_count": null,
      "outputs": [
        {
          "output_type": "execute_result",
          "data": {
            "text/plain": [
              "[100000.0, 'linear', 0.1]"
            ]
          },
          "metadata": {},
          "execution_count": 17
        }
      ]
    },
    {
      "cell_type": "markdown",
      "source": [
        "Dự đoán cho tập Test với mô hình có kết quả tốt nhất trên tập validate "
      ],
      "metadata": {
        "id": "DYyMrYkh7w_D"
      }
    },
    {
      "cell_type": "code",
      "source": [
        "regr = make_pipeline(StandardScaler(), SVR(C=case[max][0], kernel=case[max][1], epsilon=case[max][2]))\n",
        "regr.fit(X_train, Y_train)\n",
        "pred = regr.predict(test[test.columns[0:3]])"
      ],
      "metadata": {
        "id": "lwvhHkLXl7tH"
      },
      "execution_count": null,
      "outputs": []
    },
    {
      "cell_type": "markdown",
      "source": [
        "Sai số so với thực tế"
      ],
      "metadata": {
        "id": "Ni1OYKRL81oq"
      }
    },
    {
      "cell_type": "code",
      "source": [
        "print('Số dân thành thị của năm cần dự đoán (2020): ', test['Urban Population'][0])\n",
        "print('Dự đoán của mô hình: ', pred[0])\n",
        "print('Sai số: ', abs(test['Urban Population'][0] - pred[0]))"
      ],
      "metadata": {
        "colab": {
          "base_uri": "https://localhost:8080/"
        },
        "id": "vKjmau8wMoDA",
        "outputId": "96990b1b-403f-4de2-8434-fe52f8ae2ce8"
      },
      "execution_count": null,
      "outputs": [
        {
          "output_type": "stream",
          "name": "stdout",
          "text": [
            "Số dân thành thị của năm cần dự đoán (2020):  36727248.0\n",
            "Dự đoán của mô hình:  36456179.550875835\n",
            "Sai số:  271068.4491241649\n"
          ]
        }
      ]
    },
    {
      "cell_type": "markdown",
      "source": [
        "Dự đoán cho toàn bộ tập dữ liệu dùng để huấn luyện"
      ],
      "metadata": {
        "id": "FDwBaxWk9AAQ"
      }
    },
    {
      "cell_type": "code",
      "source": [
        "pred_all = regr.predict(df[df.columns[0:3]])"
      ],
      "metadata": {
        "id": "JIB8Z7NU88ms"
      },
      "execution_count": null,
      "outputs": []
    },
    {
      "cell_type": "markdown",
      "source": [
        "Biểu đồ thể hiện giá trị thực tế (màu xanh) so với giá trị dự đoán (màu đỏ)\n"
      ],
      "metadata": {
        "id": "OUYyVTts9KqM"
      }
    },
    {
      "cell_type": "code",
      "source": [
        "plt.plot(df['Year'], df['Urban Population'])\n",
        "plt.plot(df['Year'], pred_all, color = 'r')\n",
        "plt.title('Biểu đồ thể hiện giá trị thực tế so với giá trị dự đoán')\n",
        "plt.show()"
      ],
      "metadata": {
        "colab": {
          "base_uri": "https://localhost:8080/",
          "height": 282
        },
        "id": "HESE50Z3MlP1",
        "outputId": "a0a60efb-f274-408c-a99d-6592e3751610"
      },
      "execution_count": null,
      "outputs": [
        {
          "output_type": "display_data",
          "data": {
            "text/plain": [
              "<Figure size 432x288 with 1 Axes>"
            ],
            "image/png": "[encoded data removed]"
          },
          "metadata": {
            "needs_background": "light"
          }
        }
      ]
    }
  ]
}